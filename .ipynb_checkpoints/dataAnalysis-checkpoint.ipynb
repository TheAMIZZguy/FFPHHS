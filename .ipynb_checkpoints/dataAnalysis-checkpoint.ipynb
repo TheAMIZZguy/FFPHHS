{
 "cells": [
  {
   "cell_type": "code",
   "execution_count": 3,
   "id": "dfb9472a-eb1b-4e53-95b4-bcd7e03b507b",
   "metadata": {},
   "outputs": [],
   "source": [
    "library(tidyverse)\n",
    "# library(dyplr)\n",
    "#library(ggplot)"
   ]
  },
  {
   "cell_type": "code",
   "execution_count": 10,
   "id": "cde4420e-aec1-43d2-b712-2dc5fef31701",
   "metadata": {},
   "outputs": [
    {
     "name": "stderr",
     "output_type": "stream",
     "text": [
      "\u001b[1mRows: \u001b[22m\u001b[34m240\u001b[39m \u001b[1mColumns: \u001b[22m\u001b[34m5\u001b[39m\n",
      "\u001b[36m──\u001b[39m \u001b[1mColumn specification\u001b[22m \u001b[36m────────────────────────────────────────────────────────\u001b[39m\n",
      "\u001b[1mDelimiter:\u001b[22m \",\"\n",
      "\u001b[31mchr\u001b[39m (2): X1, X2\n",
      "\u001b[32mdbl\u001b[39m (3): X3, X4, X5\n",
      "\n",
      "\u001b[36mℹ\u001b[39m Use `spec()` to retrieve the full column specification for this data.\n",
      "\u001b[36mℹ\u001b[39m Specify the column types or set `show_col_types = FALSE` to quiet this message.\n",
      "\u001b[1mRows: \u001b[22m\u001b[34m240\u001b[39m \u001b[1mColumns: \u001b[22m\u001b[34m5\u001b[39m\n",
      "\u001b[36m──\u001b[39m \u001b[1mColumn specification\u001b[22m \u001b[36m────────────────────────────────────────────────────────\u001b[39m\n",
      "\u001b[1mDelimiter:\u001b[22m \",\"\n",
      "\u001b[31mchr\u001b[39m (2): X1, X2\n",
      "\u001b[32mdbl\u001b[39m (3): X3, X4, X5\n",
      "\n",
      "\u001b[36mℹ\u001b[39m Use `spec()` to retrieve the full column specification for this data.\n",
      "\u001b[36mℹ\u001b[39m Specify the column types or set `show_col_types = FALSE` to quiet this message.\n",
      "\u001b[1mRows: \u001b[22m\u001b[34m240\u001b[39m \u001b[1mColumns: \u001b[22m\u001b[34m5\u001b[39m\n",
      "\u001b[36m──\u001b[39m \u001b[1mColumn specification\u001b[22m \u001b[36m────────────────────────────────────────────────────────\u001b[39m\n",
      "\u001b[1mDelimiter:\u001b[22m \",\"\n",
      "\u001b[31mchr\u001b[39m (2): X1, X2\n",
      "\u001b[32mdbl\u001b[39m (3): X3, X4, X5\n",
      "\n",
      "\u001b[36mℹ\u001b[39m Use `spec()` to retrieve the full column specification for this data.\n",
      "\u001b[36mℹ\u001b[39m Specify the column types or set `show_col_types = FALSE` to quiet this message.\n",
      "\u001b[1mRows: \u001b[22m\u001b[34m240\u001b[39m \u001b[1mColumns: \u001b[22m\u001b[34m5\u001b[39m\n",
      "\u001b[36m──\u001b[39m \u001b[1mColumn specification\u001b[22m \u001b[36m────────────────────────────────────────────────────────\u001b[39m\n",
      "\u001b[1mDelimiter:\u001b[22m \",\"\n",
      "\u001b[31mchr\u001b[39m (2): X1, X2\n",
      "\u001b[32mdbl\u001b[39m (3): X3, X4, X5\n",
      "\n",
      "\u001b[36mℹ\u001b[39m Use `spec()` to retrieve the full column specification for this data.\n",
      "\u001b[36mℹ\u001b[39m Specify the column types or set `show_col_types = FALSE` to quiet this message.\n"
     ]
    },
    {
     "data": {
      "text/html": [
       "<table class=\"dataframe\">\n",
       "<caption>A tibble: 6 × 5</caption>\n",
       "<thead>\n",
       "\t<tr><th scope=col>X1</th><th scope=col>X2</th><th scope=col>X3</th><th scope=col>X4</th><th scope=col>X5</th></tr>\n",
       "\t<tr><th scope=col>&lt;chr&gt;</th><th scope=col>&lt;chr&gt;</th><th scope=col>&lt;dbl&gt;</th><th scope=col>&lt;dbl&gt;</th><th scope=col>&lt;dbl&gt;</th></tr>\n",
       "</thead>\n",
       "<tbody>\n",
       "\t<tr><td>LDEG</td><td>instances/BBGRL/1000_ep0.0125_0_gilbert_5.in</td><td>4</td><td>0.004</td><td>2.175</td></tr>\n",
       "\t<tr><td>LDEG</td><td>instances/BBGRL/50_ep0.1_0_gilbert_6.in     </td><td>6</td><td>0.120</td><td>0.004</td></tr>\n",
       "\t<tr><td>LDEG</td><td>instances/BBGRL/500_ep0.015_0_gilbert_8.in  </td><td>5</td><td>0.010</td><td>0.402</td></tr>\n",
       "\t<tr><td>LDEG</td><td>instances/BBGRL/1000_ep0.01_0_gilbert_3.in  </td><td>5</td><td>0.005</td><td>1.301</td></tr>\n",
       "\t<tr><td>LDEG</td><td>instances/BBGRL/100_ep0.1_0_gilbert_9.in    </td><td>4</td><td>0.040</td><td>0.011</td></tr>\n",
       "\t<tr><td>LDEG</td><td>instances/BBGRL/100_ep0.075_0_gilbert_6.in  </td><td>4</td><td>0.040</td><td>0.011</td></tr>\n",
       "</tbody>\n",
       "</table>\n"
      ],
      "text/latex": [
       "A tibble: 6 × 5\n",
       "\\begin{tabular}{lllll}\n",
       " X1 & X2 & X3 & X4 & X5\\\\\n",
       " <chr> & <chr> & <dbl> & <dbl> & <dbl>\\\\\n",
       "\\hline\n",
       "\t LDEG & instances/BBGRL/1000\\_ep0.0125\\_0\\_gilbert\\_5.in & 4 & 0.004 & 2.175\\\\\n",
       "\t LDEG & instances/BBGRL/50\\_ep0.1\\_0\\_gilbert\\_6.in      & 6 & 0.120 & 0.004\\\\\n",
       "\t LDEG & instances/BBGRL/500\\_ep0.015\\_0\\_gilbert\\_8.in   & 5 & 0.010 & 0.402\\\\\n",
       "\t LDEG & instances/BBGRL/1000\\_ep0.01\\_0\\_gilbert\\_3.in   & 5 & 0.005 & 1.301\\\\\n",
       "\t LDEG & instances/BBGRL/100\\_ep0.1\\_0\\_gilbert\\_9.in     & 4 & 0.040 & 0.011\\\\\n",
       "\t LDEG & instances/BBGRL/100\\_ep0.075\\_0\\_gilbert\\_6.in   & 4 & 0.040 & 0.011\\\\\n",
       "\\end{tabular}\n"
      ],
      "text/markdown": [
       "\n",
       "A tibble: 6 × 5\n",
       "\n",
       "| X1 &lt;chr&gt; | X2 &lt;chr&gt; | X3 &lt;dbl&gt; | X4 &lt;dbl&gt; | X5 &lt;dbl&gt; |\n",
       "|---|---|---|---|---|\n",
       "| LDEG | instances/BBGRL/1000_ep0.0125_0_gilbert_5.in | 4 | 0.004 | 2.175 |\n",
       "| LDEG | instances/BBGRL/50_ep0.1_0_gilbert_6.in      | 6 | 0.120 | 0.004 |\n",
       "| LDEG | instances/BBGRL/500_ep0.015_0_gilbert_8.in   | 5 | 0.010 | 0.402 |\n",
       "| LDEG | instances/BBGRL/1000_ep0.01_0_gilbert_3.in   | 5 | 0.005 | 1.301 |\n",
       "| LDEG | instances/BBGRL/100_ep0.1_0_gilbert_9.in     | 4 | 0.040 | 0.011 |\n",
       "| LDEG | instances/BBGRL/100_ep0.075_0_gilbert_6.in   | 4 | 0.040 | 0.011 |\n",
       "\n"
      ],
      "text/plain": [
       "  X1   X2                                           X3 X4    X5   \n",
       "1 LDEG instances/BBGRL/1000_ep0.0125_0_gilbert_5.in 4  0.004 2.175\n",
       "2 LDEG instances/BBGRL/50_ep0.1_0_gilbert_6.in      6  0.120 0.004\n",
       "3 LDEG instances/BBGRL/500_ep0.015_0_gilbert_8.in   5  0.010 0.402\n",
       "4 LDEG instances/BBGRL/1000_ep0.01_0_gilbert_3.in   5  0.005 1.301\n",
       "5 LDEG instances/BBGRL/100_ep0.1_0_gilbert_9.in     4  0.040 0.011\n",
       "6 LDEG instances/BBGRL/100_ep0.075_0_gilbert_6.in   4  0.040 0.011"
      ]
     },
     "metadata": {},
     "output_type": "display_data"
    }
   ],
   "source": [
    "ldeg = read_delim(\"results/LDEG.csv\", col_names=FALSE, delim=\",\")\n",
    "gdeg = read_delim(\"results/GDEG.csv\", col_names=FALSE, delim=\",\")\n",
    "astar = read_delim(\"results/AStar.csv\", col_names=FALSE, delim=\",\")\n",
    "mcts = read_delim(\"results/MCTS.csv\", col_names=FALSE, delim=\",\")\n",
    "\n",
    "head(ldeg)"
   ]
  },
  {
   "cell_type": "code",
   "execution_count": 18,
   "id": "fe572bc5-2523-42a8-aff2-09080d818b62",
   "metadata": {},
   "outputs": [
    {
     "data": {
      "text/html": [
       "<table class=\"dataframe\">\n",
       "<caption>A tibble: 6 × 5</caption>\n",
       "<thead>\n",
       "\t<tr><th scope=col>Method</th><th scope=col>Instance</th><th scope=col>Saved</th><th scope=col>Percentage</th><th scope=col>Time_s</th></tr>\n",
       "\t<tr><th scope=col>&lt;chr&gt;</th><th scope=col>&lt;chr&gt;</th><th scope=col>&lt;dbl&gt;</th><th scope=col>&lt;dbl&gt;</th><th scope=col>&lt;dbl&gt;</th></tr>\n",
       "</thead>\n",
       "<tbody>\n",
       "\t<tr><td>LDEG</td><td>instances/BBGRL/1000_ep0.0125_0_gilbert_5.in</td><td>4</td><td>0.004</td><td>2.175</td></tr>\n",
       "\t<tr><td>LDEG</td><td>instances/BBGRL/50_ep0.1_0_gilbert_6.in     </td><td>6</td><td>0.120</td><td>0.004</td></tr>\n",
       "\t<tr><td>LDEG</td><td>instances/BBGRL/500_ep0.015_0_gilbert_8.in  </td><td>5</td><td>0.010</td><td>0.402</td></tr>\n",
       "\t<tr><td>LDEG</td><td>instances/BBGRL/1000_ep0.01_0_gilbert_3.in  </td><td>5</td><td>0.005</td><td>1.301</td></tr>\n",
       "\t<tr><td>LDEG</td><td>instances/BBGRL/100_ep0.1_0_gilbert_9.in    </td><td>4</td><td>0.040</td><td>0.011</td></tr>\n",
       "\t<tr><td>LDEG</td><td>instances/BBGRL/100_ep0.075_0_gilbert_6.in  </td><td>4</td><td>0.040</td><td>0.011</td></tr>\n",
       "</tbody>\n",
       "</table>\n"
      ],
      "text/latex": [
       "A tibble: 6 × 5\n",
       "\\begin{tabular}{lllll}\n",
       " Method & Instance & Saved & Percentage & Time\\_s\\\\\n",
       " <chr> & <chr> & <dbl> & <dbl> & <dbl>\\\\\n",
       "\\hline\n",
       "\t LDEG & instances/BBGRL/1000\\_ep0.0125\\_0\\_gilbert\\_5.in & 4 & 0.004 & 2.175\\\\\n",
       "\t LDEG & instances/BBGRL/50\\_ep0.1\\_0\\_gilbert\\_6.in      & 6 & 0.120 & 0.004\\\\\n",
       "\t LDEG & instances/BBGRL/500\\_ep0.015\\_0\\_gilbert\\_8.in   & 5 & 0.010 & 0.402\\\\\n",
       "\t LDEG & instances/BBGRL/1000\\_ep0.01\\_0\\_gilbert\\_3.in   & 5 & 0.005 & 1.301\\\\\n",
       "\t LDEG & instances/BBGRL/100\\_ep0.1\\_0\\_gilbert\\_9.in     & 4 & 0.040 & 0.011\\\\\n",
       "\t LDEG & instances/BBGRL/100\\_ep0.075\\_0\\_gilbert\\_6.in   & 4 & 0.040 & 0.011\\\\\n",
       "\\end{tabular}\n"
      ],
      "text/markdown": [
       "\n",
       "A tibble: 6 × 5\n",
       "\n",
       "| Method &lt;chr&gt; | Instance &lt;chr&gt; | Saved &lt;dbl&gt; | Percentage &lt;dbl&gt; | Time_s &lt;dbl&gt; |\n",
       "|---|---|---|---|---|\n",
       "| LDEG | instances/BBGRL/1000_ep0.0125_0_gilbert_5.in | 4 | 0.004 | 2.175 |\n",
       "| LDEG | instances/BBGRL/50_ep0.1_0_gilbert_6.in      | 6 | 0.120 | 0.004 |\n",
       "| LDEG | instances/BBGRL/500_ep0.015_0_gilbert_8.in   | 5 | 0.010 | 0.402 |\n",
       "| LDEG | instances/BBGRL/1000_ep0.01_0_gilbert_3.in   | 5 | 0.005 | 1.301 |\n",
       "| LDEG | instances/BBGRL/100_ep0.1_0_gilbert_9.in     | 4 | 0.040 | 0.011 |\n",
       "| LDEG | instances/BBGRL/100_ep0.075_0_gilbert_6.in   | 4 | 0.040 | 0.011 |\n",
       "\n"
      ],
      "text/plain": [
       "  Method Instance                                     Saved Percentage Time_s\n",
       "1 LDEG   instances/BBGRL/1000_ep0.0125_0_gilbert_5.in 4     0.004      2.175 \n",
       "2 LDEG   instances/BBGRL/50_ep0.1_0_gilbert_6.in      6     0.120      0.004 \n",
       "3 LDEG   instances/BBGRL/500_ep0.015_0_gilbert_8.in   5     0.010      0.402 \n",
       "4 LDEG   instances/BBGRL/1000_ep0.01_0_gilbert_3.in   5     0.005      1.301 \n",
       "5 LDEG   instances/BBGRL/100_ep0.1_0_gilbert_9.in     4     0.040      0.011 \n",
       "6 LDEG   instances/BBGRL/100_ep0.075_0_gilbert_6.in   4     0.040      0.011 "
      ]
     },
     "metadata": {},
     "output_type": "display_data"
    },
    {
     "data": {
      "text/html": [
       "<table class=\"dataframe\">\n",
       "<caption>A tibble: 6 × 5</caption>\n",
       "<thead>\n",
       "\t<tr><th scope=col>Method</th><th scope=col>Instance</th><th scope=col>Saved</th><th scope=col>Percentage</th><th scope=col>Time_s</th></tr>\n",
       "\t<tr><th scope=col>&lt;chr&gt;</th><th scope=col>&lt;chr&gt;</th><th scope=col>&lt;dbl&gt;</th><th scope=col>&lt;dbl&gt;</th><th scope=col>&lt;dbl&gt;</th></tr>\n",
       "</thead>\n",
       "<tbody>\n",
       "\t<tr><td>GDEG</td><td>instances/BBGRL/1000_ep0.0125_0_gilbert_5.in</td><td>4</td><td>0.004</td><td>1.000</td></tr>\n",
       "\t<tr><td>GDEG</td><td>instances/BBGRL/50_ep0.1_0_gilbert_6.in     </td><td>5</td><td>0.100</td><td>0.003</td></tr>\n",
       "\t<tr><td>GDEG</td><td>instances/BBGRL/500_ep0.015_0_gilbert_8.in  </td><td>5</td><td>0.010</td><td>0.299</td></tr>\n",
       "\t<tr><td>GDEG</td><td>instances/BBGRL/1000_ep0.01_0_gilbert_3.in  </td><td>5</td><td>0.005</td><td>1.070</td></tr>\n",
       "\t<tr><td>GDEG</td><td>instances/BBGRL/100_ep0.1_0_gilbert_9.in    </td><td>3</td><td>0.030</td><td>0.008</td></tr>\n",
       "\t<tr><td>GDEG</td><td>instances/BBGRL/100_ep0.075_0_gilbert_6.in  </td><td>4</td><td>0.040</td><td>0.009</td></tr>\n",
       "</tbody>\n",
       "</table>\n"
      ],
      "text/latex": [
       "A tibble: 6 × 5\n",
       "\\begin{tabular}{lllll}\n",
       " Method & Instance & Saved & Percentage & Time\\_s\\\\\n",
       " <chr> & <chr> & <dbl> & <dbl> & <dbl>\\\\\n",
       "\\hline\n",
       "\t GDEG & instances/BBGRL/1000\\_ep0.0125\\_0\\_gilbert\\_5.in & 4 & 0.004 & 1.000\\\\\n",
       "\t GDEG & instances/BBGRL/50\\_ep0.1\\_0\\_gilbert\\_6.in      & 5 & 0.100 & 0.003\\\\\n",
       "\t GDEG & instances/BBGRL/500\\_ep0.015\\_0\\_gilbert\\_8.in   & 5 & 0.010 & 0.299\\\\\n",
       "\t GDEG & instances/BBGRL/1000\\_ep0.01\\_0\\_gilbert\\_3.in   & 5 & 0.005 & 1.070\\\\\n",
       "\t GDEG & instances/BBGRL/100\\_ep0.1\\_0\\_gilbert\\_9.in     & 3 & 0.030 & 0.008\\\\\n",
       "\t GDEG & instances/BBGRL/100\\_ep0.075\\_0\\_gilbert\\_6.in   & 4 & 0.040 & 0.009\\\\\n",
       "\\end{tabular}\n"
      ],
      "text/markdown": [
       "\n",
       "A tibble: 6 × 5\n",
       "\n",
       "| Method &lt;chr&gt; | Instance &lt;chr&gt; | Saved &lt;dbl&gt; | Percentage &lt;dbl&gt; | Time_s &lt;dbl&gt; |\n",
       "|---|---|---|---|---|\n",
       "| GDEG | instances/BBGRL/1000_ep0.0125_0_gilbert_5.in | 4 | 0.004 | 1.000 |\n",
       "| GDEG | instances/BBGRL/50_ep0.1_0_gilbert_6.in      | 5 | 0.100 | 0.003 |\n",
       "| GDEG | instances/BBGRL/500_ep0.015_0_gilbert_8.in   | 5 | 0.010 | 0.299 |\n",
       "| GDEG | instances/BBGRL/1000_ep0.01_0_gilbert_3.in   | 5 | 0.005 | 1.070 |\n",
       "| GDEG | instances/BBGRL/100_ep0.1_0_gilbert_9.in     | 3 | 0.030 | 0.008 |\n",
       "| GDEG | instances/BBGRL/100_ep0.075_0_gilbert_6.in   | 4 | 0.040 | 0.009 |\n",
       "\n"
      ],
      "text/plain": [
       "  Method Instance                                     Saved Percentage Time_s\n",
       "1 GDEG   instances/BBGRL/1000_ep0.0125_0_gilbert_5.in 4     0.004      1.000 \n",
       "2 GDEG   instances/BBGRL/50_ep0.1_0_gilbert_6.in      5     0.100      0.003 \n",
       "3 GDEG   instances/BBGRL/500_ep0.015_0_gilbert_8.in   5     0.010      0.299 \n",
       "4 GDEG   instances/BBGRL/1000_ep0.01_0_gilbert_3.in   5     0.005      1.070 \n",
       "5 GDEG   instances/BBGRL/100_ep0.1_0_gilbert_9.in     3     0.030      0.008 \n",
       "6 GDEG   instances/BBGRL/100_ep0.075_0_gilbert_6.in   4     0.040      0.009 "
      ]
     },
     "metadata": {},
     "output_type": "display_data"
    }
   ],
   "source": [
    "names(ldeg) <- c(\"Method\", \"Instance\", \"Saved\", \"Percentage\", \"Time_s\")\n",
    "names(gdeg) <- c(\"Method\", \"Instance\", \"Saved\", \"Percentage\", \"Time_s\")\n",
    "names(astar) <- c(\"Method\", \"Instance\", \"Saved\", \"Percentage\", \"Time_s\")\n",
    "names(mcts) <- c(\"Method\", \"Instance\", \"Saved\", \"Percentage\", \"Time_s\")\n",
    "\n",
    "head(ldeg)\n",
    "head(gdeg)"
   ]
  },
  {
   "cell_type": "code",
   "execution_count": 19,
   "id": "3f378d70-2074-4448-8975-e2217bdd402f",
   "metadata": {},
   "outputs": [
    {
     "data": {
      "text/html": [
       "<table class=\"dataframe\">\n",
       "<caption>A tibble: 6 × 9</caption>\n",
       "<thead>\n",
       "\t<tr><th scope=col>Instance</th><th scope=col>Saved_LDEG</th><th scope=col>Saved_GDEG</th><th scope=col>Saved_AStar</th><th scope=col>Saved_MCTS</th><th scope=col>Time_s_LDEG</th><th scope=col>Time_s_GDEG</th><th scope=col>Time_s_AStar</th><th scope=col>Time_s_MCTS</th></tr>\n",
       "\t<tr><th scope=col>&lt;chr&gt;</th><th scope=col>&lt;dbl&gt;</th><th scope=col>&lt;dbl&gt;</th><th scope=col>&lt;dbl&gt;</th><th scope=col>&lt;dbl&gt;</th><th scope=col>&lt;dbl&gt;</th><th scope=col>&lt;dbl&gt;</th><th scope=col>&lt;dbl&gt;</th><th scope=col>&lt;dbl&gt;</th></tr>\n",
       "</thead>\n",
       "<tbody>\n",
       "\t<tr><td>instances/BBGRL/1000_ep0.0125_0_gilbert_5.in</td><td>4</td><td>4</td><td>4</td><td>4</td><td>2.175</td><td>1.000</td><td>11.358</td><td>23.781</td></tr>\n",
       "\t<tr><td>instances/BBGRL/50_ep0.1_0_gilbert_6.in     </td><td>6</td><td>5</td><td>5</td><td>7</td><td>0.004</td><td>0.003</td><td> 0.046</td><td> 0.116</td></tr>\n",
       "\t<tr><td>instances/BBGRL/500_ep0.015_0_gilbert_8.in  </td><td>5</td><td>5</td><td>5</td><td>5</td><td>0.402</td><td>0.299</td><td> 6.265</td><td>12.610</td></tr>\n",
       "\t<tr><td>instances/BBGRL/1000_ep0.01_0_gilbert_3.in  </td><td>5</td><td>5</td><td>5</td><td>5</td><td>1.301</td><td>1.070</td><td>21.381</td><td>51.012</td></tr>\n",
       "\t<tr><td>instances/BBGRL/100_ep0.1_0_gilbert_9.in    </td><td>4</td><td>3</td><td>3</td><td>3</td><td>0.011</td><td>0.008</td><td> 0.151</td><td> 0.150</td></tr>\n",
       "\t<tr><td>instances/BBGRL/100_ep0.075_0_gilbert_6.in  </td><td>4</td><td>4</td><td>4</td><td>4</td><td>0.011</td><td>0.009</td><td> 0.141</td><td> 0.268</td></tr>\n",
       "</tbody>\n",
       "</table>\n"
      ],
      "text/latex": [
       "A tibble: 6 × 9\n",
       "\\begin{tabular}{lllllllll}\n",
       " Instance & Saved\\_LDEG & Saved\\_GDEG & Saved\\_AStar & Saved\\_MCTS & Time\\_s\\_LDEG & Time\\_s\\_GDEG & Time\\_s\\_AStar & Time\\_s\\_MCTS\\\\\n",
       " <chr> & <dbl> & <dbl> & <dbl> & <dbl> & <dbl> & <dbl> & <dbl> & <dbl>\\\\\n",
       "\\hline\n",
       "\t instances/BBGRL/1000\\_ep0.0125\\_0\\_gilbert\\_5.in & 4 & 4 & 4 & 4 & 2.175 & 1.000 & 11.358 & 23.781\\\\\n",
       "\t instances/BBGRL/50\\_ep0.1\\_0\\_gilbert\\_6.in      & 6 & 5 & 5 & 7 & 0.004 & 0.003 &  0.046 &  0.116\\\\\n",
       "\t instances/BBGRL/500\\_ep0.015\\_0\\_gilbert\\_8.in   & 5 & 5 & 5 & 5 & 0.402 & 0.299 &  6.265 & 12.610\\\\\n",
       "\t instances/BBGRL/1000\\_ep0.01\\_0\\_gilbert\\_3.in   & 5 & 5 & 5 & 5 & 1.301 & 1.070 & 21.381 & 51.012\\\\\n",
       "\t instances/BBGRL/100\\_ep0.1\\_0\\_gilbert\\_9.in     & 4 & 3 & 3 & 3 & 0.011 & 0.008 &  0.151 &  0.150\\\\\n",
       "\t instances/BBGRL/100\\_ep0.075\\_0\\_gilbert\\_6.in   & 4 & 4 & 4 & 4 & 0.011 & 0.009 &  0.141 &  0.268\\\\\n",
       "\\end{tabular}\n"
      ],
      "text/markdown": [
       "\n",
       "A tibble: 6 × 9\n",
       "\n",
       "| Instance &lt;chr&gt; | Saved_LDEG &lt;dbl&gt; | Saved_GDEG &lt;dbl&gt; | Saved_AStar &lt;dbl&gt; | Saved_MCTS &lt;dbl&gt; | Time_s_LDEG &lt;dbl&gt; | Time_s_GDEG &lt;dbl&gt; | Time_s_AStar &lt;dbl&gt; | Time_s_MCTS &lt;dbl&gt; |\n",
       "|---|---|---|---|---|---|---|---|---|\n",
       "| instances/BBGRL/1000_ep0.0125_0_gilbert_5.in | 4 | 4 | 4 | 4 | 2.175 | 1.000 | 11.358 | 23.781 |\n",
       "| instances/BBGRL/50_ep0.1_0_gilbert_6.in      | 6 | 5 | 5 | 7 | 0.004 | 0.003 |  0.046 |  0.116 |\n",
       "| instances/BBGRL/500_ep0.015_0_gilbert_8.in   | 5 | 5 | 5 | 5 | 0.402 | 0.299 |  6.265 | 12.610 |\n",
       "| instances/BBGRL/1000_ep0.01_0_gilbert_3.in   | 5 | 5 | 5 | 5 | 1.301 | 1.070 | 21.381 | 51.012 |\n",
       "| instances/BBGRL/100_ep0.1_0_gilbert_9.in     | 4 | 3 | 3 | 3 | 0.011 | 0.008 |  0.151 |  0.150 |\n",
       "| instances/BBGRL/100_ep0.075_0_gilbert_6.in   | 4 | 4 | 4 | 4 | 0.011 | 0.009 |  0.141 |  0.268 |\n",
       "\n"
      ],
      "text/plain": [
       "  Instance                                     Saved_LDEG Saved_GDEG\n",
       "1 instances/BBGRL/1000_ep0.0125_0_gilbert_5.in 4          4         \n",
       "2 instances/BBGRL/50_ep0.1_0_gilbert_6.in      6          5         \n",
       "3 instances/BBGRL/500_ep0.015_0_gilbert_8.in   5          5         \n",
       "4 instances/BBGRL/1000_ep0.01_0_gilbert_3.in   5          5         \n",
       "5 instances/BBGRL/100_ep0.1_0_gilbert_9.in     4          3         \n",
       "6 instances/BBGRL/100_ep0.075_0_gilbert_6.in   4          4         \n",
       "  Saved_AStar Saved_MCTS Time_s_LDEG Time_s_GDEG Time_s_AStar Time_s_MCTS\n",
       "1 4           4          2.175       1.000       11.358       23.781     \n",
       "2 5           7          0.004       0.003        0.046        0.116     \n",
       "3 5           5          0.402       0.299        6.265       12.610     \n",
       "4 5           5          1.301       1.070       21.381       51.012     \n",
       "5 3           3          0.011       0.008        0.151        0.150     \n",
       "6 4           4          0.011       0.009        0.141        0.268     "
      ]
     },
     "metadata": {},
     "output_type": "display_data"
    },
    {
     "data": {
      "text/html": [
       "<table class=\"dataframe\">\n",
       "<caption>A tibble: 6 × 9</caption>\n",
       "<thead>\n",
       "\t<tr><th scope=col>Instance</th><th scope=col>Saved_LDEG</th><th scope=col>Saved_GDEG</th><th scope=col>Saved_AStar</th><th scope=col>Saved_MCTS</th><th scope=col>Time_s_LDEG</th><th scope=col>Time_s_GDEG</th><th scope=col>Time_s_AStar</th><th scope=col>Time_s_MCTS</th></tr>\n",
       "\t<tr><th scope=col>&lt;chr&gt;</th><th scope=col>&lt;dbl&gt;</th><th scope=col>&lt;dbl&gt;</th><th scope=col>&lt;dbl&gt;</th><th scope=col>&lt;dbl&gt;</th><th scope=col>&lt;dbl&gt;</th><th scope=col>&lt;dbl&gt;</th><th scope=col>&lt;dbl&gt;</th><th scope=col>&lt;dbl&gt;</th></tr>\n",
       "</thead>\n",
       "<tbody>\n",
       "\t<tr><td>instances/GBRL/50_ep0.25_0_gilbert_10.in </td><td>3</td><td>3</td><td>3</td><td>3</td><td>0.004</td><td>0.002</td><td>0.023</td><td>0.035</td></tr>\n",
       "\t<tr><td>instances/GBRL/100_r0.219_0_geom_9.gin   </td><td>7</td><td>7</td><td>7</td><td>7</td><td>0.026</td><td>0.014</td><td>0.534</td><td>2.637</td></tr>\n",
       "\t<tr><td>instances/GBRL/100_r0.169_0_geom_10.gin  </td><td>9</td><td>9</td><td>9</td><td>9</td><td>0.028</td><td>0.020</td><td>1.243</td><td>6.621</td></tr>\n",
       "\t<tr><td>instances/GBRL/50_ep0.25_0_gilbert_3.in  </td><td>3</td><td>3</td><td>3</td><td>3</td><td>0.002</td><td>0.003</td><td>0.029</td><td>0.033</td></tr>\n",
       "\t<tr><td>instances/GBRL/100_ep0.075_0_gilbert_1.in</td><td>4</td><td>4</td><td>4</td><td>4</td><td>0.011</td><td>0.014</td><td>0.158</td><td>0.275</td></tr>\n",
       "\t<tr><td>instances/GBRL/100_r0.219_0_geom_8.gin   </td><td>7</td><td>7</td><td>7</td><td>7</td><td>0.017</td><td>0.020</td><td>0.371</td><td>2.603</td></tr>\n",
       "</tbody>\n",
       "</table>\n"
      ],
      "text/latex": [
       "A tibble: 6 × 9\n",
       "\\begin{tabular}{lllllllll}\n",
       " Instance & Saved\\_LDEG & Saved\\_GDEG & Saved\\_AStar & Saved\\_MCTS & Time\\_s\\_LDEG & Time\\_s\\_GDEG & Time\\_s\\_AStar & Time\\_s\\_MCTS\\\\\n",
       " <chr> & <dbl> & <dbl> & <dbl> & <dbl> & <dbl> & <dbl> & <dbl> & <dbl>\\\\\n",
       "\\hline\n",
       "\t instances/GBRL/50\\_ep0.25\\_0\\_gilbert\\_10.in  & 3 & 3 & 3 & 3 & 0.004 & 0.002 & 0.023 & 0.035\\\\\n",
       "\t instances/GBRL/100\\_r0.219\\_0\\_geom\\_9.gin    & 7 & 7 & 7 & 7 & 0.026 & 0.014 & 0.534 & 2.637\\\\\n",
       "\t instances/GBRL/100\\_r0.169\\_0\\_geom\\_10.gin   & 9 & 9 & 9 & 9 & 0.028 & 0.020 & 1.243 & 6.621\\\\\n",
       "\t instances/GBRL/50\\_ep0.25\\_0\\_gilbert\\_3.in   & 3 & 3 & 3 & 3 & 0.002 & 0.003 & 0.029 & 0.033\\\\\n",
       "\t instances/GBRL/100\\_ep0.075\\_0\\_gilbert\\_1.in & 4 & 4 & 4 & 4 & 0.011 & 0.014 & 0.158 & 0.275\\\\\n",
       "\t instances/GBRL/100\\_r0.219\\_0\\_geom\\_8.gin    & 7 & 7 & 7 & 7 & 0.017 & 0.020 & 0.371 & 2.603\\\\\n",
       "\\end{tabular}\n"
      ],
      "text/markdown": [
       "\n",
       "A tibble: 6 × 9\n",
       "\n",
       "| Instance &lt;chr&gt; | Saved_LDEG &lt;dbl&gt; | Saved_GDEG &lt;dbl&gt; | Saved_AStar &lt;dbl&gt; | Saved_MCTS &lt;dbl&gt; | Time_s_LDEG &lt;dbl&gt; | Time_s_GDEG &lt;dbl&gt; | Time_s_AStar &lt;dbl&gt; | Time_s_MCTS &lt;dbl&gt; |\n",
       "|---|---|---|---|---|---|---|---|---|\n",
       "| instances/GBRL/50_ep0.25_0_gilbert_10.in  | 3 | 3 | 3 | 3 | 0.004 | 0.002 | 0.023 | 0.035 |\n",
       "| instances/GBRL/100_r0.219_0_geom_9.gin    | 7 | 7 | 7 | 7 | 0.026 | 0.014 | 0.534 | 2.637 |\n",
       "| instances/GBRL/100_r0.169_0_geom_10.gin   | 9 | 9 | 9 | 9 | 0.028 | 0.020 | 1.243 | 6.621 |\n",
       "| instances/GBRL/50_ep0.25_0_gilbert_3.in   | 3 | 3 | 3 | 3 | 0.002 | 0.003 | 0.029 | 0.033 |\n",
       "| instances/GBRL/100_ep0.075_0_gilbert_1.in | 4 | 4 | 4 | 4 | 0.011 | 0.014 | 0.158 | 0.275 |\n",
       "| instances/GBRL/100_r0.219_0_geom_8.gin    | 7 | 7 | 7 | 7 | 0.017 | 0.020 | 0.371 | 2.603 |\n",
       "\n"
      ],
      "text/plain": [
       "  Instance                                  Saved_LDEG Saved_GDEG Saved_AStar\n",
       "1 instances/GBRL/50_ep0.25_0_gilbert_10.in  3          3          3          \n",
       "2 instances/GBRL/100_r0.219_0_geom_9.gin    7          7          7          \n",
       "3 instances/GBRL/100_r0.169_0_geom_10.gin   9          9          9          \n",
       "4 instances/GBRL/50_ep0.25_0_gilbert_3.in   3          3          3          \n",
       "5 instances/GBRL/100_ep0.075_0_gilbert_1.in 4          4          4          \n",
       "6 instances/GBRL/100_r0.219_0_geom_8.gin    7          7          7          \n",
       "  Saved_MCTS Time_s_LDEG Time_s_GDEG Time_s_AStar Time_s_MCTS\n",
       "1 3          0.004       0.002       0.023        0.035      \n",
       "2 7          0.026       0.014       0.534        2.637      \n",
       "3 9          0.028       0.020       1.243        6.621      \n",
       "4 3          0.002       0.003       0.029        0.033      \n",
       "5 4          0.011       0.014       0.158        0.275      \n",
       "6 7          0.017       0.020       0.371        2.603      "
      ]
     },
     "metadata": {},
     "output_type": "display_data"
    }
   ],
   "source": [
    "df_list <- rbind(ldeg, gdeg, astar, mcts) %>% select(-Percentage) %>%\n",
    "                pivot_wider(names_from = Method, values_from = c(Saved, Time_s))\n",
    "\n",
    "head(df_list)\n",
    "tail(df_list)"
   ]
  },
  {
   "cell_type": "code",
   "execution_count": 24,
   "id": "06b944f9-644b-49ae-b196-d8f2aa0e38d1",
   "metadata": {},
   "outputs": [
    {
     "ename": "ERROR",
     "evalue": "\u001b[1m\u001b[33mError\u001b[39m in \u001b[1m\u001b[1m`chr_as_locations()`:\u001b[22m\n\u001b[33m!\u001b[39m Can't subset columns that don't exist.\n\u001b[31m✖\u001b[39m Column `Saved` doesn't exist.\n",
     "output_type": "error",
     "traceback": [
      "\u001b[1m\u001b[33mError\u001b[39m in \u001b[1m\u001b[1m`chr_as_locations()`:\u001b[22m\n\u001b[33m!\u001b[39m Can't subset columns that don't exist.\n\u001b[31m✖\u001b[39m Column `Saved` doesn't exist.\nTraceback:\n",
      "1. rbind(ldeg, gdeg, astar, mcts) %>% select(Method) %>% pivot_wider(names_from = Method, \n .     values_from = Saved) %>% mutate(LDEG = coalesce(LDEG, 0), \n .     GDEG = coalesce(GDEG, 0), AStar = coalesce(AStar, 0), MCTS = coalesce(MCTS, \n .         0))",
      "2. mutate(., LDEG = coalesce(LDEG, 0), GDEG = coalesce(GDEG, 0), \n .     AStar = coalesce(AStar, 0), MCTS = coalesce(MCTS, 0))",
      "3. pivot_wider(., names_from = Method, values_from = Saved)",
      "4. pivot_wider.data.frame(., names_from = Method, values_from = Saved)",
      "5. build_wider_spec(data = data, names_from = !!names_from, values_from = !!values_from, \n .     names_prefix = names_prefix, names_sep = names_sep, names_glue = names_glue, \n .     names_sort = names_sort, names_vary = names_vary, names_expand = names_expand)",
      "6. tidyselect::eval_select(enquo(values_from), data)",
      "7. eval_select_impl(data, names(data), as_quosure(expr, env), include = include, \n .     exclude = exclude, strict = strict, name_spec = name_spec, \n .     allow_rename = allow_rename, error_call = error_call, )",
      "8. with_subscript_errors(vars_select_eval(vars, expr, strict = strict, \n .     data = x, name_spec = name_spec, uniquely_named = uniquely_named, \n .     allow_rename = allow_rename, type = type, error_call = error_call), \n .     type = type)",
      "9. tryCatch(with_entraced_errors(expr), vctrs_error_subscript = function(cnd) {\n .     cnd$subscript_action <- subscript_action(type)\n .     cnd$subscript_elt <- \"column\"\n .     cnd_signal(cnd)\n . })",
      "10. tryCatchList(expr, classes, parentenv, handlers)",
      "11. tryCatchOne(expr, names, parentenv, handlers[[1L]])",
      "12. value[[3L]](cond)",
      "13. cnd_signal(cnd)",
      "14. signal_abort(cnd)"
     ]
    }
   ],
   "source": [
    "saved_list <- rbind(ldeg, gdeg, astar, mcts) %>% select(Method) %>%\n",
    "                pivot_wider(names_from = Method, values_from = Saved) %>%\n",
    "                mutate(LDEG = coalesce(LDEG, 0),\n",
    "                        GDEG = coalesce(GDEG, 0),\n",
    "                        AStar = coalesce(AStar, 0),\n",
    "                        MCTS = coalesce(MCTS, 0))\n",
    "saved_list\n",
    "# saved_list[\"Best\"] <- colnames(select(saved_list, Saved_LDEG, Saved_GDEG, Saved_AStar, Saved_MCTS))[max.col(select(saved_list,  Saved_LDEG, Saved_GDEG, Saved_AStar, Saved_MCTS))]\n",
    "\n",
    "head(saved_list)\n",
    "tail(saved_list)"
   ]
  },
  {
   "cell_type": "code",
   "execution_count": null,
   "id": "b10a92aa-c8b4-4a48-b276-96fd3b4df9d3",
   "metadata": {},
   "outputs": [],
   "source": []
  }
 ],
 "metadata": {
  "kernelspec": {
   "display_name": "R",
   "language": "R",
   "name": "ir"
  },
  "language_info": {
   "codemirror_mode": "r",
   "file_extension": ".r",
   "mimetype": "text/x-r-source",
   "name": "R",
   "pygments_lexer": "r",
   "version": "4.2.0"
  }
 },
 "nbformat": 4,
 "nbformat_minor": 5
}
