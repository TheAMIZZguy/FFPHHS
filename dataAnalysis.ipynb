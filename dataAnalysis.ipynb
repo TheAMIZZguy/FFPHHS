{
 "cells": [
  {
   "cell_type": "code",
   "execution_count": null,
   "outputs": [],
   "source": [
    "library(tidyverse)\n",
    "# library(dyplr)\n",
    "#library(ggplot)"
   ],
   "metadata": {
    "collapsed": false,
    "pycharm": {
     "name": "#%%\n"
    }
   }
  },
  {
   "cell_type": "code",
   "execution_count": null,
   "outputs": [],
   "source": [
    "ldeg = read_delim(\"results/LDEG.csv\", col_names=FALSE, delim=\",\")\n",
    "gdeg = read_delim(\"results/GDEG.csv\", col_names=FALSE, delim=\",\")\n",
    "astar = read_delim(\"results/AStar.csv\", col_names=FALSE, delim=\",\")\n",
    "mcts = read_delim(\"results/MCTS.csv\", col_names=FALSE, delim=\",\")\n",
    "\n",
    "head(ldeg)"
   ],
   "metadata": {
    "collapsed": false,
    "pycharm": {
     "name": "#%%\n"
    }
   }
  },
  {
   "cell_type": "code",
   "execution_count": null,
   "outputs": [],
   "source": [
    "names(ldeg) <- c(\"Method\", \"Instance\", \"Saved\", \"Percentage\", \"Time_s\")\n",
    "names(gdeg) <- c(\"Method\", \"Instance\", \"Saved\", \"Percentage\", \"Time_s\")\n",
    "names(astar) <- c(\"Method\", \"Instance\", \"Saved\", \"Percentage\", \"Time_s\")\n",
    "names(mcts) <- c(\"Method\", \"Instance\", \"Saved\", \"Percentage\", \"Time_s\")\n",
    "\n",
    "head(ldeg)\n",
    "head(gdeg)"
   ],
   "metadata": {
    "collapsed": false,
    "pycharm": {
     "name": "#%%\n"
    }
   }
  },
  {
   "cell_type": "code",
   "execution_count": null,
   "outputs": [],
   "source": [
    "df_list <- rbind(ldeg, gdeg, astar, mcts) %>% select(-Percentage) %>%\n",
    "                pivot_wider(names_from = Method, values_from = c(Saved, Time_s))\n",
    "\n",
    "head(df_list)\n",
    "tail(df_list)"
   ],
   "metadata": {
    "collapsed": false,
    "pycharm": {
     "name": "#%%\n"
    }
   }
  },
  {
   "cell_type": "code",
   "execution_count": null,
   "outputs": [],
   "source": [
    "saved_list <- rbind(ldeg, gdeg, astar, mcts) %>% select(Method) %>%\n",
    "                pivot_wider(names_from = Method, values_from = Saved) %>%\n",
    "                mutate(LDEG = coalesce(LDEG, 0),\n",
    "                        GDEG = coalesce(GDEG, 0),\n",
    "                        AStar = coalesce(AStar, 0),\n",
    "                        MCTS = coalesce(MCTS, 0))\n",
    "saved_list\n",
    "# saved_list[\"Best\"] <- colnames(select(saved_list, Saved_LDEG, Saved_GDEG, Saved_AStar, Saved_MCTS))[max.col(select(saved_list,  Saved_LDEG, Saved_GDEG, Saved_AStar, Saved_MCTS))]\n",
    "\n",
    "head(saved_list)\n",
    "tail(saved_list)"
   ],
   "metadata": {
    "collapsed": false,
    "pycharm": {
     "name": "#%%\n"
    }
   }
  },
  {
   "cell_type": "code",
   "execution_count": null,
   "id": "b10a92aa-c8b4-4a48-b276-96fd3b4df9d3",
   "metadata": {},
   "outputs": [],
   "source": []
  }
 ],
 "metadata": {
  "kernelspec": {
   "display_name": "R",
   "language": "R",
   "name": "ir"
  },
  "language_info": {
   "codemirror_mode": "r",
   "file_extension": ".r",
   "mimetype": "text/x-r-source",
   "name": "R",
   "pygments_lexer": "r",
   "version": "4.2.0"
  }
 },
 "nbformat": 4,
 "nbformat_minor": 5
}