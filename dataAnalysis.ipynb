{
 "cells": [
  {
   "cell_type": "code",
   "execution_count": 1,
   "id": "e73addc6",
   "metadata": {
    "collapsed": false,
    "jupyter": {
     "outputs_hidden": false
    },
    "pycharm": {
     "name": "#%%\n"
    }
   },
   "outputs": [
    {
     "name": "stderr",
     "output_type": "stream",
     "text": [
      "── \u001B[1mAttaching packages\u001B[22m ─────────────────────────────────────── tidyverse 1.3.1 ──\n",
      "\n",
      "\u001B[32m✔\u001B[39m \u001B[34mggplot2\u001B[39m 3.3.6     \u001B[32m✔\u001B[39m \u001B[34mpurrr  \u001B[39m 0.3.4\n",
      "\u001B[32m✔\u001B[39m \u001B[34mtibble \u001B[39m 3.1.7     \u001B[32m✔\u001B[39m \u001B[34mdplyr  \u001B[39m 1.0.9\n",
      "\u001B[32m✔\u001B[39m \u001B[34mtidyr  \u001B[39m 1.2.0     \u001B[32m✔\u001B[39m \u001B[34mstringr\u001B[39m 1.4.0\n",
      "\u001B[32m✔\u001B[39m \u001B[34mreadr  \u001B[39m 2.1.2     \u001B[32m✔\u001B[39m \u001B[34mforcats\u001B[39m 0.5.1\n",
      "\n",
      "── \u001B[1mConflicts\u001B[22m ────────────────────────────────────────── tidyverse_conflicts() ──\n",
      "\u001B[31m✖\u001B[39m \u001B[34mdplyr\u001B[39m::\u001B[32mfilter()\u001B[39m masks \u001B[34mstats\u001B[39m::filter()\n",
      "\u001B[31m✖\u001B[39m \u001B[34mdplyr\u001B[39m::\u001B[32mlag()\u001B[39m    masks \u001B[34mstats\u001B[39m::lag()\n",
      "\n"
     ]
    }
   ],
   "source": [
    "library(tidyverse)\n",
    "# library(dyplr)\n",
    "#library(ggplot)"
   ]
  },
  {
   "cell_type": "code",
   "execution_count": 2,
   "id": "d8ce415f",
   "metadata": {
    "collapsed": false,
    "jupyter": {
     "outputs_hidden": false
    },
    "pycharm": {
     "name": "#%%\n"
    }
   },
   "outputs": [
    {
     "name": "stderr",
     "output_type": "stream",
     "text": [
      "\u001B[1mRows: \u001B[22m\u001B[34m240\u001B[39m \u001B[1mColumns: \u001B[22m\u001B[34m5\u001B[39m\n",
      "\u001B[36m──\u001B[39m \u001B[1mColumn specification\u001B[22m \u001B[36m────────────────────────────────────────────────────────\u001B[39m\n",
      "\u001B[1mDelimiter:\u001B[22m \",\"\n",
      "\u001B[31mchr\u001B[39m (2): X1, X2\n",
      "\u001B[32mdbl\u001B[39m (3): X3, X4, X5\n",
      "\n",
      "\u001B[36mℹ\u001B[39m Use `spec()` to retrieve the full column specification for this data.\n",
      "\u001B[36mℹ\u001B[39m Specify the column types or set `show_col_types = FALSE` to quiet this message.\n",
      "\u001B[1mRows: \u001B[22m\u001B[34m240\u001B[39m \u001B[1mColumns: \u001B[22m\u001B[34m5\u001B[39m\n",
      "\u001B[36m──\u001B[39m \u001B[1mColumn specification\u001B[22m \u001B[36m────────────────────────────────────────────────────────\u001B[39m\n",
      "\u001B[1mDelimiter:\u001B[22m \",\"\n",
      "\u001B[31mchr\u001B[39m (2): X1, X2\n",
      "\u001B[32mdbl\u001B[39m (3): X3, X4, X5\n",
      "\n",
      "\u001B[36mℹ\u001B[39m Use `spec()` to retrieve the full column specification for this data.\n",
      "\u001B[36mℹ\u001B[39m Specify the column types or set `show_col_types = FALSE` to quiet this message.\n",
      "\u001B[1mRows: \u001B[22m\u001B[34m240\u001B[39m \u001B[1mColumns: \u001B[22m\u001B[34m5\u001B[39m\n",
      "\u001B[36m──\u001B[39m \u001B[1mColumn specification\u001B[22m \u001B[36m────────────────────────────────────────────────────────\u001B[39m\n",
      "\u001B[1mDelimiter:\u001B[22m \",\"\n",
      "\u001B[31mchr\u001B[39m (2): X1, X2\n",
      "\u001B[32mdbl\u001B[39m (3): X3, X4, X5\n",
      "\n",
      "\u001B[36mℹ\u001B[39m Use `spec()` to retrieve the full column specification for this data.\n",
      "\u001B[36mℹ\u001B[39m Specify the column types or set `show_col_types = FALSE` to quiet this message.\n",
      "\u001B[1mRows: \u001B[22m\u001B[34m240\u001B[39m \u001B[1mColumns: \u001B[22m\u001B[34m5\u001B[39m\n",
      "\u001B[36m──\u001B[39m \u001B[1mColumn specification\u001B[22m \u001B[36m────────────────────────────────────────────────────────\u001B[39m\n",
      "\u001B[1mDelimiter:\u001B[22m \",\"\n",
      "\u001B[31mchr\u001B[39m (2): X1, X2\n",
      "\u001B[32mdbl\u001B[39m (3): X3, X4, X5\n",
      "\n",
      "\u001B[36mℹ\u001B[39m Use `spec()` to retrieve the full column specification for this data.\n",
      "\u001B[36mℹ\u001B[39m Specify the column types or set `show_col_types = FALSE` to quiet this message.\n"
     ]
    },
    {
     "data": {
      "text/html": [
       "<table class=\"dataframe\">\n",
       "<caption>A tibble: 6 × 5</caption>\n",
       "<thead>\n",
       "\t<tr><th scope=col>X1</th><th scope=col>X2</th><th scope=col>X3</th><th scope=col>X4</th><th scope=col>X5</th></tr>\n",
       "\t<tr><th scope=col>&lt;chr&gt;</th><th scope=col>&lt;chr&gt;</th><th scope=col>&lt;dbl&gt;</th><th scope=col>&lt;dbl&gt;</th><th scope=col>&lt;dbl&gt;</th></tr>\n",
       "</thead>\n",
       "<tbody>\n",
       "\t<tr><td>LDEG</td><td>instances/BBGRL/1000_ep0.0125_0_gilbert_5.in</td><td>4</td><td>0.004</td><td>2.260</td></tr>\n",
       "\t<tr><td>LDEG</td><td>instances/BBGRL/50_ep0.1_0_gilbert_6.in     </td><td>6</td><td>0.120</td><td>0.004</td></tr>\n",
       "\t<tr><td>LDEG</td><td>instances/BBGRL/500_ep0.015_0_gilbert_8.in  </td><td>5</td><td>0.010</td><td>0.547</td></tr>\n",
       "\t<tr><td>LDEG</td><td>instances/BBGRL/1000_ep0.01_0_gilbert_3.in  </td><td>5</td><td>0.005</td><td>1.529</td></tr>\n",
       "\t<tr><td>LDEG</td><td>instances/BBGRL/100_ep0.1_0_gilbert_9.in    </td><td>4</td><td>0.040</td><td>0.013</td></tr>\n",
       "\t<tr><td>LDEG</td><td>instances/BBGRL/100_ep0.075_0_gilbert_6.in  </td><td>4</td><td>0.040</td><td>0.012</td></tr>\n",
       "</tbody>\n",
       "</table>\n"
      ],
      "text/latex": [
       "A tibble: 6 × 5\n",
       "\\begin{tabular}{lllll}\n",
       " X1 & X2 & X3 & X4 & X5\\\\\n",
       " <chr> & <chr> & <dbl> & <dbl> & <dbl>\\\\\n",
       "\\hline\n",
       "\t LDEG & instances/BBGRL/1000\\_ep0.0125\\_0\\_gilbert\\_5.in & 4 & 0.004 & 2.260\\\\\n",
       "\t LDEG & instances/BBGRL/50\\_ep0.1\\_0\\_gilbert\\_6.in      & 6 & 0.120 & 0.004\\\\\n",
       "\t LDEG & instances/BBGRL/500\\_ep0.015\\_0\\_gilbert\\_8.in   & 5 & 0.010 & 0.547\\\\\n",
       "\t LDEG & instances/BBGRL/1000\\_ep0.01\\_0\\_gilbert\\_3.in   & 5 & 0.005 & 1.529\\\\\n",
       "\t LDEG & instances/BBGRL/100\\_ep0.1\\_0\\_gilbert\\_9.in     & 4 & 0.040 & 0.013\\\\\n",
       "\t LDEG & instances/BBGRL/100\\_ep0.075\\_0\\_gilbert\\_6.in   & 4 & 0.040 & 0.012\\\\\n",
       "\\end{tabular}\n"
      ],
      "text/markdown": [
       "\n",
       "A tibble: 6 × 5\n",
       "\n",
       "| X1 &lt;chr&gt; | X2 &lt;chr&gt; | X3 &lt;dbl&gt; | X4 &lt;dbl&gt; | X5 &lt;dbl&gt; |\n",
       "|---|---|---|---|---|\n",
       "| LDEG | instances/BBGRL/1000_ep0.0125_0_gilbert_5.in | 4 | 0.004 | 2.260 |\n",
       "| LDEG | instances/BBGRL/50_ep0.1_0_gilbert_6.in      | 6 | 0.120 | 0.004 |\n",
       "| LDEG | instances/BBGRL/500_ep0.015_0_gilbert_8.in   | 5 | 0.010 | 0.547 |\n",
       "| LDEG | instances/BBGRL/1000_ep0.01_0_gilbert_3.in   | 5 | 0.005 | 1.529 |\n",
       "| LDEG | instances/BBGRL/100_ep0.1_0_gilbert_9.in     | 4 | 0.040 | 0.013 |\n",
       "| LDEG | instances/BBGRL/100_ep0.075_0_gilbert_6.in   | 4 | 0.040 | 0.012 |\n",
       "\n"
      ],
      "text/plain": [
       "  X1   X2                                           X3 X4    X5   \n",
       "1 LDEG instances/BBGRL/1000_ep0.0125_0_gilbert_5.in 4  0.004 2.260\n",
       "2 LDEG instances/BBGRL/50_ep0.1_0_gilbert_6.in      6  0.120 0.004\n",
       "3 LDEG instances/BBGRL/500_ep0.015_0_gilbert_8.in   5  0.010 0.547\n",
       "4 LDEG instances/BBGRL/1000_ep0.01_0_gilbert_3.in   5  0.005 1.529\n",
       "5 LDEG instances/BBGRL/100_ep0.1_0_gilbert_9.in     4  0.040 0.013\n",
       "6 LDEG instances/BBGRL/100_ep0.075_0_gilbert_6.in   4  0.040 0.012"
      ]
     },
     "metadata": {},
     "output_type": "display_data"
    }
   ],
   "source": [
    "ldeg = read_delim(\"results/LDEG.csv\", col_names=FALSE, delim=\",\")\n",
    "gdeg = read_delim(\"results/GDEG.csv\", col_names=FALSE, delim=\",\")\n",
    "astar = read_delim(\"results/AStar.csv\", col_names=FALSE, delim=\",\")\n",
    "mcts = read_delim(\"results/MCTS.csv\", col_names=FALSE, delim=\",\")\n",
    "\n",
    "head(ldeg)"
   ]
  },
  {
   "cell_type": "code",
   "execution_count": 3,
   "id": "7cb5dba4",
   "metadata": {
    "collapsed": false,
    "jupyter": {
     "outputs_hidden": false
    },
    "pycharm": {
     "name": "#%%\n"
    }
   },
   "outputs": [
    {
     "data": {
      "text/html": [
       "<table class=\"dataframe\">\n",
       "<caption>A tibble: 6 × 5</caption>\n",
       "<thead>\n",
       "\t<tr><th scope=col>Method</th><th scope=col>Instance</th><th scope=col>Saved</th><th scope=col>Percentage</th><th scope=col>Time_s</th></tr>\n",
       "\t<tr><th scope=col>&lt;chr&gt;</th><th scope=col>&lt;chr&gt;</th><th scope=col>&lt;dbl&gt;</th><th scope=col>&lt;dbl&gt;</th><th scope=col>&lt;dbl&gt;</th></tr>\n",
       "</thead>\n",
       "<tbody>\n",
       "\t<tr><td>LDEG</td><td>instances/BBGRL/1000_ep0.0125_0_gilbert_5.in</td><td>4</td><td>0.004</td><td>2.260</td></tr>\n",
       "\t<tr><td>LDEG</td><td>instances/BBGRL/50_ep0.1_0_gilbert_6.in     </td><td>6</td><td>0.120</td><td>0.004</td></tr>\n",
       "\t<tr><td>LDEG</td><td>instances/BBGRL/500_ep0.015_0_gilbert_8.in  </td><td>5</td><td>0.010</td><td>0.547</td></tr>\n",
       "\t<tr><td>LDEG</td><td>instances/BBGRL/1000_ep0.01_0_gilbert_3.in  </td><td>5</td><td>0.005</td><td>1.529</td></tr>\n",
       "\t<tr><td>LDEG</td><td>instances/BBGRL/100_ep0.1_0_gilbert_9.in    </td><td>4</td><td>0.040</td><td>0.013</td></tr>\n",
       "\t<tr><td>LDEG</td><td>instances/BBGRL/100_ep0.075_0_gilbert_6.in  </td><td>4</td><td>0.040</td><td>0.012</td></tr>\n",
       "</tbody>\n",
       "</table>\n"
      ],
      "text/latex": [
       "A tibble: 6 × 5\n",
       "\\begin{tabular}{lllll}\n",
       " Method & Instance & Saved & Percentage & Time\\_s\\\\\n",
       " <chr> & <chr> & <dbl> & <dbl> & <dbl>\\\\\n",
       "\\hline\n",
       "\t LDEG & instances/BBGRL/1000\\_ep0.0125\\_0\\_gilbert\\_5.in & 4 & 0.004 & 2.260\\\\\n",
       "\t LDEG & instances/BBGRL/50\\_ep0.1\\_0\\_gilbert\\_6.in      & 6 & 0.120 & 0.004\\\\\n",
       "\t LDEG & instances/BBGRL/500\\_ep0.015\\_0\\_gilbert\\_8.in   & 5 & 0.010 & 0.547\\\\\n",
       "\t LDEG & instances/BBGRL/1000\\_ep0.01\\_0\\_gilbert\\_3.in   & 5 & 0.005 & 1.529\\\\\n",
       "\t LDEG & instances/BBGRL/100\\_ep0.1\\_0\\_gilbert\\_9.in     & 4 & 0.040 & 0.013\\\\\n",
       "\t LDEG & instances/BBGRL/100\\_ep0.075\\_0\\_gilbert\\_6.in   & 4 & 0.040 & 0.012\\\\\n",
       "\\end{tabular}\n"
      ],
      "text/markdown": [
       "\n",
       "A tibble: 6 × 5\n",
       "\n",
       "| Method &lt;chr&gt; | Instance &lt;chr&gt; | Saved &lt;dbl&gt; | Percentage &lt;dbl&gt; | Time_s &lt;dbl&gt; |\n",
       "|---|---|---|---|---|\n",
       "| LDEG | instances/BBGRL/1000_ep0.0125_0_gilbert_5.in | 4 | 0.004 | 2.260 |\n",
       "| LDEG | instances/BBGRL/50_ep0.1_0_gilbert_6.in      | 6 | 0.120 | 0.004 |\n",
       "| LDEG | instances/BBGRL/500_ep0.015_0_gilbert_8.in   | 5 | 0.010 | 0.547 |\n",
       "| LDEG | instances/BBGRL/1000_ep0.01_0_gilbert_3.in   | 5 | 0.005 | 1.529 |\n",
       "| LDEG | instances/BBGRL/100_ep0.1_0_gilbert_9.in     | 4 | 0.040 | 0.013 |\n",
       "| LDEG | instances/BBGRL/100_ep0.075_0_gilbert_6.in   | 4 | 0.040 | 0.012 |\n",
       "\n"
      ],
      "text/plain": [
       "  Method Instance                                     Saved Percentage Time_s\n",
       "1 LDEG   instances/BBGRL/1000_ep0.0125_0_gilbert_5.in 4     0.004      2.260 \n",
       "2 LDEG   instances/BBGRL/50_ep0.1_0_gilbert_6.in      6     0.120      0.004 \n",
       "3 LDEG   instances/BBGRL/500_ep0.015_0_gilbert_8.in   5     0.010      0.547 \n",
       "4 LDEG   instances/BBGRL/1000_ep0.01_0_gilbert_3.in   5     0.005      1.529 \n",
       "5 LDEG   instances/BBGRL/100_ep0.1_0_gilbert_9.in     4     0.040      0.013 \n",
       "6 LDEG   instances/BBGRL/100_ep0.075_0_gilbert_6.in   4     0.040      0.012 "
      ]
     },
     "metadata": {},
     "output_type": "display_data"
    },
    {
     "data": {
      "text/html": [
       "<table class=\"dataframe\">\n",
       "<caption>A tibble: 6 × 5</caption>\n",
       "<thead>\n",
       "\t<tr><th scope=col>Method</th><th scope=col>Instance</th><th scope=col>Saved</th><th scope=col>Percentage</th><th scope=col>Time_s</th></tr>\n",
       "\t<tr><th scope=col>&lt;chr&gt;</th><th scope=col>&lt;chr&gt;</th><th scope=col>&lt;dbl&gt;</th><th scope=col>&lt;dbl&gt;</th><th scope=col>&lt;dbl&gt;</th></tr>\n",
       "</thead>\n",
       "<tbody>\n",
       "\t<tr><td>GDEG</td><td>instances/BBGRL/1000_ep0.0125_0_gilbert_5.in</td><td>4</td><td>0.004</td><td>0.932</td></tr>\n",
       "\t<tr><td>GDEG</td><td>instances/BBGRL/50_ep0.1_0_gilbert_6.in     </td><td>5</td><td>0.100</td><td>0.003</td></tr>\n",
       "\t<tr><td>GDEG</td><td>instances/BBGRL/500_ep0.015_0_gilbert_8.in  </td><td>5</td><td>0.010</td><td>0.275</td></tr>\n",
       "\t<tr><td>GDEG</td><td>instances/BBGRL/1000_ep0.01_0_gilbert_3.in  </td><td>5</td><td>0.005</td><td>1.126</td></tr>\n",
       "\t<tr><td>GDEG</td><td>instances/BBGRL/100_ep0.1_0_gilbert_9.in    </td><td>3</td><td>0.030</td><td>0.009</td></tr>\n",
       "\t<tr><td>GDEG</td><td>instances/BBGRL/100_ep0.075_0_gilbert_6.in  </td><td>4</td><td>0.040</td><td>0.012</td></tr>\n",
       "</tbody>\n",
       "</table>\n"
      ],
      "text/latex": [
       "A tibble: 6 × 5\n",
       "\\begin{tabular}{lllll}\n",
       " Method & Instance & Saved & Percentage & Time\\_s\\\\\n",
       " <chr> & <chr> & <dbl> & <dbl> & <dbl>\\\\\n",
       "\\hline\n",
       "\t GDEG & instances/BBGRL/1000\\_ep0.0125\\_0\\_gilbert\\_5.in & 4 & 0.004 & 0.932\\\\\n",
       "\t GDEG & instances/BBGRL/50\\_ep0.1\\_0\\_gilbert\\_6.in      & 5 & 0.100 & 0.003\\\\\n",
       "\t GDEG & instances/BBGRL/500\\_ep0.015\\_0\\_gilbert\\_8.in   & 5 & 0.010 & 0.275\\\\\n",
       "\t GDEG & instances/BBGRL/1000\\_ep0.01\\_0\\_gilbert\\_3.in   & 5 & 0.005 & 1.126\\\\\n",
       "\t GDEG & instances/BBGRL/100\\_ep0.1\\_0\\_gilbert\\_9.in     & 3 & 0.030 & 0.009\\\\\n",
       "\t GDEG & instances/BBGRL/100\\_ep0.075\\_0\\_gilbert\\_6.in   & 4 & 0.040 & 0.012\\\\\n",
       "\\end{tabular}\n"
      ],
      "text/markdown": [
       "\n",
       "A tibble: 6 × 5\n",
       "\n",
       "| Method &lt;chr&gt; | Instance &lt;chr&gt; | Saved &lt;dbl&gt; | Percentage &lt;dbl&gt; | Time_s &lt;dbl&gt; |\n",
       "|---|---|---|---|---|\n",
       "| GDEG | instances/BBGRL/1000_ep0.0125_0_gilbert_5.in | 4 | 0.004 | 0.932 |\n",
       "| GDEG | instances/BBGRL/50_ep0.1_0_gilbert_6.in      | 5 | 0.100 | 0.003 |\n",
       "| GDEG | instances/BBGRL/500_ep0.015_0_gilbert_8.in   | 5 | 0.010 | 0.275 |\n",
       "| GDEG | instances/BBGRL/1000_ep0.01_0_gilbert_3.in   | 5 | 0.005 | 1.126 |\n",
       "| GDEG | instances/BBGRL/100_ep0.1_0_gilbert_9.in     | 3 | 0.030 | 0.009 |\n",
       "| GDEG | instances/BBGRL/100_ep0.075_0_gilbert_6.in   | 4 | 0.040 | 0.012 |\n",
       "\n"
      ],
      "text/plain": [
       "  Method Instance                                     Saved Percentage Time_s\n",
       "1 GDEG   instances/BBGRL/1000_ep0.0125_0_gilbert_5.in 4     0.004      0.932 \n",
       "2 GDEG   instances/BBGRL/50_ep0.1_0_gilbert_6.in      5     0.100      0.003 \n",
       "3 GDEG   instances/BBGRL/500_ep0.015_0_gilbert_8.in   5     0.010      0.275 \n",
       "4 GDEG   instances/BBGRL/1000_ep0.01_0_gilbert_3.in   5     0.005      1.126 \n",
       "5 GDEG   instances/BBGRL/100_ep0.1_0_gilbert_9.in     3     0.030      0.009 \n",
       "6 GDEG   instances/BBGRL/100_ep0.075_0_gilbert_6.in   4     0.040      0.012 "
      ]
     },
     "metadata": {},
     "output_type": "display_data"
    }
   ],
   "source": [
    "names(ldeg) <- c(\"Method\", \"Instance\", \"Saved\", \"Percentage\", \"Time_s\")\n",
    "names(gdeg) <- c(\"Method\", \"Instance\", \"Saved\", \"Percentage\", \"Time_s\")\n",
    "names(astar) <- c(\"Method\", \"Instance\", \"Saved\", \"Percentage\", \"Time_s\")\n",
    "names(mcts) <- c(\"Method\", \"Instance\", \"Saved\", \"Percentage\", \"Time_s\")\n",
    "\n",
    "head(ldeg)\n",
    "head(gdeg)"
   ]
  },
  {
   "cell_type": "code",
   "execution_count": 4,
   "id": "8a32b883",
   "metadata": {
    "collapsed": false,
    "jupyter": {
     "outputs_hidden": false
    },
    "pycharm": {
     "name": "#%%\n"
    }
   },
   "outputs": [
    {
     "data": {
      "text/html": [
       "<table class=\"dataframe\">\n",
       "<caption>A tibble: 6 × 9</caption>\n",
       "<thead>\n",
       "\t<tr><th scope=col>Instance</th><th scope=col>Saved_LDEG</th><th scope=col>Saved_GDEG</th><th scope=col>Saved_AStar</th><th scope=col>Saved_MCTS</th><th scope=col>Time_s_LDEG</th><th scope=col>Time_s_GDEG</th><th scope=col>Time_s_AStar</th><th scope=col>Time_s_MCTS</th></tr>\n",
       "\t<tr><th scope=col>&lt;chr&gt;</th><th scope=col>&lt;dbl&gt;</th><th scope=col>&lt;dbl&gt;</th><th scope=col>&lt;dbl&gt;</th><th scope=col>&lt;dbl&gt;</th><th scope=col>&lt;dbl&gt;</th><th scope=col>&lt;dbl&gt;</th><th scope=col>&lt;dbl&gt;</th><th scope=col>&lt;dbl&gt;</th></tr>\n",
       "</thead>\n",
       "<tbody>\n",
       "\t<tr><td>instances/BBGRL/1000_ep0.0125_0_gilbert_5.in</td><td>4</td><td>4</td><td>4</td><td>4</td><td>2.260</td><td>0.932</td><td>17.338</td><td>23.978</td></tr>\n",
       "\t<tr><td>instances/BBGRL/50_ep0.1_0_gilbert_6.in     </td><td>6</td><td>5</td><td>6</td><td>7</td><td>0.004</td><td>0.003</td><td> 0.070</td><td> 0.135</td></tr>\n",
       "\t<tr><td>instances/BBGRL/500_ep0.015_0_gilbert_8.in  </td><td>5</td><td>5</td><td>5</td><td>5</td><td>0.547</td><td>0.275</td><td>11.211</td><td>12.745</td></tr>\n",
       "\t<tr><td>instances/BBGRL/1000_ep0.01_0_gilbert_3.in  </td><td>5</td><td>5</td><td>5</td><td>5</td><td>1.529</td><td>1.126</td><td>37.440</td><td>53.396</td></tr>\n",
       "\t<tr><td>instances/BBGRL/100_ep0.1_0_gilbert_9.in    </td><td>4</td><td>3</td><td>3</td><td>3</td><td>0.013</td><td>0.009</td><td> 0.151</td><td> 0.159</td></tr>\n",
       "\t<tr><td>instances/BBGRL/100_ep0.075_0_gilbert_6.in  </td><td>4</td><td>4</td><td>4</td><td>4</td><td>0.012</td><td>0.012</td><td> 0.212</td><td> 0.272</td></tr>\n",
       "</tbody>\n",
       "</table>\n"
      ],
      "text/latex": [
       "A tibble: 6 × 9\n",
       "\\begin{tabular}{lllllllll}\n",
       " Instance & Saved\\_LDEG & Saved\\_GDEG & Saved\\_AStar & Saved\\_MCTS & Time\\_s\\_LDEG & Time\\_s\\_GDEG & Time\\_s\\_AStar & Time\\_s\\_MCTS\\\\\n",
       " <chr> & <dbl> & <dbl> & <dbl> & <dbl> & <dbl> & <dbl> & <dbl> & <dbl>\\\\\n",
       "\\hline\n",
       "\t instances/BBGRL/1000\\_ep0.0125\\_0\\_gilbert\\_5.in & 4 & 4 & 4 & 4 & 2.260 & 0.932 & 17.338 & 23.978\\\\\n",
       "\t instances/BBGRL/50\\_ep0.1\\_0\\_gilbert\\_6.in      & 6 & 5 & 6 & 7 & 0.004 & 0.003 &  0.070 &  0.135\\\\\n",
       "\t instances/BBGRL/500\\_ep0.015\\_0\\_gilbert\\_8.in   & 5 & 5 & 5 & 5 & 0.547 & 0.275 & 11.211 & 12.745\\\\\n",
       "\t instances/BBGRL/1000\\_ep0.01\\_0\\_gilbert\\_3.in   & 5 & 5 & 5 & 5 & 1.529 & 1.126 & 37.440 & 53.396\\\\\n",
       "\t instances/BBGRL/100\\_ep0.1\\_0\\_gilbert\\_9.in     & 4 & 3 & 3 & 3 & 0.013 & 0.009 &  0.151 &  0.159\\\\\n",
       "\t instances/BBGRL/100\\_ep0.075\\_0\\_gilbert\\_6.in   & 4 & 4 & 4 & 4 & 0.012 & 0.012 &  0.212 &  0.272\\\\\n",
       "\\end{tabular}\n"
      ],
      "text/markdown": [
       "\n",
       "A tibble: 6 × 9\n",
       "\n",
       "| Instance &lt;chr&gt; | Saved_LDEG &lt;dbl&gt; | Saved_GDEG &lt;dbl&gt; | Saved_AStar &lt;dbl&gt; | Saved_MCTS &lt;dbl&gt; | Time_s_LDEG &lt;dbl&gt; | Time_s_GDEG &lt;dbl&gt; | Time_s_AStar &lt;dbl&gt; | Time_s_MCTS &lt;dbl&gt; |\n",
       "|---|---|---|---|---|---|---|---|---|\n",
       "| instances/BBGRL/1000_ep0.0125_0_gilbert_5.in | 4 | 4 | 4 | 4 | 2.260 | 0.932 | 17.338 | 23.978 |\n",
       "| instances/BBGRL/50_ep0.1_0_gilbert_6.in      | 6 | 5 | 6 | 7 | 0.004 | 0.003 |  0.070 |  0.135 |\n",
       "| instances/BBGRL/500_ep0.015_0_gilbert_8.in   | 5 | 5 | 5 | 5 | 0.547 | 0.275 | 11.211 | 12.745 |\n",
       "| instances/BBGRL/1000_ep0.01_0_gilbert_3.in   | 5 | 5 | 5 | 5 | 1.529 | 1.126 | 37.440 | 53.396 |\n",
       "| instances/BBGRL/100_ep0.1_0_gilbert_9.in     | 4 | 3 | 3 | 3 | 0.013 | 0.009 |  0.151 |  0.159 |\n",
       "| instances/BBGRL/100_ep0.075_0_gilbert_6.in   | 4 | 4 | 4 | 4 | 0.012 | 0.012 |  0.212 |  0.272 |\n",
       "\n"
      ],
      "text/plain": [
       "  Instance                                     Saved_LDEG Saved_GDEG\n",
       "1 instances/BBGRL/1000_ep0.0125_0_gilbert_5.in 4          4         \n",
       "2 instances/BBGRL/50_ep0.1_0_gilbert_6.in      6          5         \n",
       "3 instances/BBGRL/500_ep0.015_0_gilbert_8.in   5          5         \n",
       "4 instances/BBGRL/1000_ep0.01_0_gilbert_3.in   5          5         \n",
       "5 instances/BBGRL/100_ep0.1_0_gilbert_9.in     4          3         \n",
       "6 instances/BBGRL/100_ep0.075_0_gilbert_6.in   4          4         \n",
       "  Saved_AStar Saved_MCTS Time_s_LDEG Time_s_GDEG Time_s_AStar Time_s_MCTS\n",
       "1 4           4          2.260       0.932       17.338       23.978     \n",
       "2 6           7          0.004       0.003        0.070        0.135     \n",
       "3 5           5          0.547       0.275       11.211       12.745     \n",
       "4 5           5          1.529       1.126       37.440       53.396     \n",
       "5 3           3          0.013       0.009        0.151        0.159     \n",
       "6 4           4          0.012       0.012        0.212        0.272     "
      ]
     },
     "metadata": {},
     "output_type": "display_data"
    },
    {
     "data": {
      "text/html": [
       "<table class=\"dataframe\">\n",
       "<caption>A tibble: 6 × 9</caption>\n",
       "<thead>\n",
       "\t<tr><th scope=col>Instance</th><th scope=col>Saved_LDEG</th><th scope=col>Saved_GDEG</th><th scope=col>Saved_AStar</th><th scope=col>Saved_MCTS</th><th scope=col>Time_s_LDEG</th><th scope=col>Time_s_GDEG</th><th scope=col>Time_s_AStar</th><th scope=col>Time_s_MCTS</th></tr>\n",
       "\t<tr><th scope=col>&lt;chr&gt;</th><th scope=col>&lt;dbl&gt;</th><th scope=col>&lt;dbl&gt;</th><th scope=col>&lt;dbl&gt;</th><th scope=col>&lt;dbl&gt;</th><th scope=col>&lt;dbl&gt;</th><th scope=col>&lt;dbl&gt;</th><th scope=col>&lt;dbl&gt;</th><th scope=col>&lt;dbl&gt;</th></tr>\n",
       "</thead>\n",
       "<tbody>\n",
       "\t<tr><td>instances/GBRL/50_ep0.25_0_gilbert_10.in </td><td>3</td><td>3</td><td> 3</td><td>3</td><td>0.002</td><td>0.002</td><td>0.024</td><td>0.036</td></tr>\n",
       "\t<tr><td>instances/GBRL/100_r0.219_0_geom_9.gin   </td><td>7</td><td>7</td><td> 7</td><td>7</td><td>0.021</td><td>0.015</td><td>0.423</td><td>2.803</td></tr>\n",
       "\t<tr><td>instances/GBRL/100_r0.169_0_geom_10.gin  </td><td>9</td><td>9</td><td>12</td><td>9</td><td>0.031</td><td>0.027</td><td>0.604</td><td>8.927</td></tr>\n",
       "\t<tr><td>instances/GBRL/50_ep0.25_0_gilbert_3.in  </td><td>3</td><td>3</td><td> 3</td><td>3</td><td>0.003</td><td>0.004</td><td>0.028</td><td>0.037</td></tr>\n",
       "\t<tr><td>instances/GBRL/100_ep0.075_0_gilbert_1.in</td><td>4</td><td>4</td><td> 4</td><td>4</td><td>0.018</td><td>0.013</td><td>0.277</td><td>0.369</td></tr>\n",
       "\t<tr><td>instances/GBRL/100_r0.219_0_geom_8.gin   </td><td>7</td><td>7</td><td> 7</td><td>7</td><td>0.028</td><td>0.022</td><td>0.561</td><td>3.785</td></tr>\n",
       "</tbody>\n",
       "</table>\n"
      ],
      "text/latex": [
       "A tibble: 6 × 9\n",
       "\\begin{tabular}{lllllllll}\n",
       " Instance & Saved\\_LDEG & Saved\\_GDEG & Saved\\_AStar & Saved\\_MCTS & Time\\_s\\_LDEG & Time\\_s\\_GDEG & Time\\_s\\_AStar & Time\\_s\\_MCTS\\\\\n",
       " <chr> & <dbl> & <dbl> & <dbl> & <dbl> & <dbl> & <dbl> & <dbl> & <dbl>\\\\\n",
       "\\hline\n",
       "\t instances/GBRL/50\\_ep0.25\\_0\\_gilbert\\_10.in  & 3 & 3 &  3 & 3 & 0.002 & 0.002 & 0.024 & 0.036\\\\\n",
       "\t instances/GBRL/100\\_r0.219\\_0\\_geom\\_9.gin    & 7 & 7 &  7 & 7 & 0.021 & 0.015 & 0.423 & 2.803\\\\\n",
       "\t instances/GBRL/100\\_r0.169\\_0\\_geom\\_10.gin   & 9 & 9 & 12 & 9 & 0.031 & 0.027 & 0.604 & 8.927\\\\\n",
       "\t instances/GBRL/50\\_ep0.25\\_0\\_gilbert\\_3.in   & 3 & 3 &  3 & 3 & 0.003 & 0.004 & 0.028 & 0.037\\\\\n",
       "\t instances/GBRL/100\\_ep0.075\\_0\\_gilbert\\_1.in & 4 & 4 &  4 & 4 & 0.018 & 0.013 & 0.277 & 0.369\\\\\n",
       "\t instances/GBRL/100\\_r0.219\\_0\\_geom\\_8.gin    & 7 & 7 &  7 & 7 & 0.028 & 0.022 & 0.561 & 3.785\\\\\n",
       "\\end{tabular}\n"
      ],
      "text/markdown": [
       "\n",
       "A tibble: 6 × 9\n",
       "\n",
       "| Instance &lt;chr&gt; | Saved_LDEG &lt;dbl&gt; | Saved_GDEG &lt;dbl&gt; | Saved_AStar &lt;dbl&gt; | Saved_MCTS &lt;dbl&gt; | Time_s_LDEG &lt;dbl&gt; | Time_s_GDEG &lt;dbl&gt; | Time_s_AStar &lt;dbl&gt; | Time_s_MCTS &lt;dbl&gt; |\n",
       "|---|---|---|---|---|---|---|---|---|\n",
       "| instances/GBRL/50_ep0.25_0_gilbert_10.in  | 3 | 3 |  3 | 3 | 0.002 | 0.002 | 0.024 | 0.036 |\n",
       "| instances/GBRL/100_r0.219_0_geom_9.gin    | 7 | 7 |  7 | 7 | 0.021 | 0.015 | 0.423 | 2.803 |\n",
       "| instances/GBRL/100_r0.169_0_geom_10.gin   | 9 | 9 | 12 | 9 | 0.031 | 0.027 | 0.604 | 8.927 |\n",
       "| instances/GBRL/50_ep0.25_0_gilbert_3.in   | 3 | 3 |  3 | 3 | 0.003 | 0.004 | 0.028 | 0.037 |\n",
       "| instances/GBRL/100_ep0.075_0_gilbert_1.in | 4 | 4 |  4 | 4 | 0.018 | 0.013 | 0.277 | 0.369 |\n",
       "| instances/GBRL/100_r0.219_0_geom_8.gin    | 7 | 7 |  7 | 7 | 0.028 | 0.022 | 0.561 | 3.785 |\n",
       "\n"
      ],
      "text/plain": [
       "  Instance                                  Saved_LDEG Saved_GDEG Saved_AStar\n",
       "1 instances/GBRL/50_ep0.25_0_gilbert_10.in  3          3           3         \n",
       "2 instances/GBRL/100_r0.219_0_geom_9.gin    7          7           7         \n",
       "3 instances/GBRL/100_r0.169_0_geom_10.gin   9          9          12         \n",
       "4 instances/GBRL/50_ep0.25_0_gilbert_3.in   3          3           3         \n",
       "5 instances/GBRL/100_ep0.075_0_gilbert_1.in 4          4           4         \n",
       "6 instances/GBRL/100_r0.219_0_geom_8.gin    7          7           7         \n",
       "  Saved_MCTS Time_s_LDEG Time_s_GDEG Time_s_AStar Time_s_MCTS\n",
       "1 3          0.002       0.002       0.024        0.036      \n",
       "2 7          0.021       0.015       0.423        2.803      \n",
       "3 9          0.031       0.027       0.604        8.927      \n",
       "4 3          0.003       0.004       0.028        0.037      \n",
       "5 4          0.018       0.013       0.277        0.369      \n",
       "6 7          0.028       0.022       0.561        3.785      "
      ]
     },
     "metadata": {},
     "output_type": "display_data"
    }
   ],
   "source": [
    "df_list <- rbind(ldeg, gdeg, astar, mcts) %>% select(-Percentage) %>%\n",
    "                pivot_wider(names_from = Method, values_from = c(Saved, Time_s))\n",
    "\n",
    "head(df_list)\n",
    "tail(df_list)"
   ]
  },
  {
   "cell_type": "code",
   "execution_count": 5,
   "id": "d2107741",
   "metadata": {
    "collapsed": false,
    "jupyter": {
     "outputs_hidden": false
    },
    "pycharm": {
     "name": "#%%\n"
    }
   },
   "outputs": [
    {
     "data": {
      "text/html": [
       "<table class=\"dataframe\">\n",
       "<caption>A tibble: 6 × 7</caption>\n",
       "<thead>\n",
       "\t<tr><th scope=col>Instance</th><th scope=col>Min</th><th scope=col>LDEG</th><th scope=col>GDEG</th><th scope=col>AStar</th><th scope=col>MCTS</th><th scope=col>Best</th></tr>\n",
       "\t<tr><th scope=col>&lt;chr&gt;</th><th scope=col>&lt;dbl&gt;</th><th scope=col>&lt;dbl&gt;</th><th scope=col>&lt;dbl&gt;</th><th scope=col>&lt;dbl&gt;</th><th scope=col>&lt;dbl&gt;</th><th scope=col>&lt;chr&gt;</th></tr>\n",
       "</thead>\n",
       "<tbody>\n",
       "\t<tr><td>instances/BBGRL/1000_ep0.0125_0_gilbert_5.in</td><td>4</td><td>4</td><td>4</td><td>4</td><td>4</td><td>Min </td></tr>\n",
       "\t<tr><td>instances/BBGRL/50_ep0.1_0_gilbert_6.in     </td><td>5</td><td>6</td><td>5</td><td>6</td><td>7</td><td>MCTS</td></tr>\n",
       "\t<tr><td>instances/BBGRL/500_ep0.015_0_gilbert_8.in  </td><td>5</td><td>5</td><td>5</td><td>5</td><td>5</td><td>Min </td></tr>\n",
       "\t<tr><td>instances/BBGRL/1000_ep0.01_0_gilbert_3.in  </td><td>5</td><td>5</td><td>5</td><td>5</td><td>5</td><td>Min </td></tr>\n",
       "\t<tr><td>instances/BBGRL/100_ep0.1_0_gilbert_9.in    </td><td>3</td><td>4</td><td>3</td><td>3</td><td>3</td><td>LDEG</td></tr>\n",
       "\t<tr><td>instances/BBGRL/100_ep0.075_0_gilbert_6.in  </td><td>4</td><td>4</td><td>4</td><td>4</td><td>4</td><td>Min </td></tr>\n",
       "</tbody>\n",
       "</table>\n"
      ],
      "text/latex": [
       "A tibble: 6 × 7\n",
       "\\begin{tabular}{lllllll}\n",
       " Instance & Min & LDEG & GDEG & AStar & MCTS & Best\\\\\n",
       " <chr> & <dbl> & <dbl> & <dbl> & <dbl> & <dbl> & <chr>\\\\\n",
       "\\hline\n",
       "\t instances/BBGRL/1000\\_ep0.0125\\_0\\_gilbert\\_5.in & 4 & 4 & 4 & 4 & 4 & Min \\\\\n",
       "\t instances/BBGRL/50\\_ep0.1\\_0\\_gilbert\\_6.in      & 5 & 6 & 5 & 6 & 7 & MCTS\\\\\n",
       "\t instances/BBGRL/500\\_ep0.015\\_0\\_gilbert\\_8.in   & 5 & 5 & 5 & 5 & 5 & Min \\\\\n",
       "\t instances/BBGRL/1000\\_ep0.01\\_0\\_gilbert\\_3.in   & 5 & 5 & 5 & 5 & 5 & Min \\\\\n",
       "\t instances/BBGRL/100\\_ep0.1\\_0\\_gilbert\\_9.in     & 3 & 4 & 3 & 3 & 3 & LDEG\\\\\n",
       "\t instances/BBGRL/100\\_ep0.075\\_0\\_gilbert\\_6.in   & 4 & 4 & 4 & 4 & 4 & Min \\\\\n",
       "\\end{tabular}\n"
      ],
      "text/markdown": [
       "\n",
       "A tibble: 6 × 7\n",
       "\n",
       "| Instance &lt;chr&gt; | Min &lt;dbl&gt; | LDEG &lt;dbl&gt; | GDEG &lt;dbl&gt; | AStar &lt;dbl&gt; | MCTS &lt;dbl&gt; | Best &lt;chr&gt; |\n",
       "|---|---|---|---|---|---|---|\n",
       "| instances/BBGRL/1000_ep0.0125_0_gilbert_5.in | 4 | 4 | 4 | 4 | 4 | Min  |\n",
       "| instances/BBGRL/50_ep0.1_0_gilbert_6.in      | 5 | 6 | 5 | 6 | 7 | MCTS |\n",
       "| instances/BBGRL/500_ep0.015_0_gilbert_8.in   | 5 | 5 | 5 | 5 | 5 | Min  |\n",
       "| instances/BBGRL/1000_ep0.01_0_gilbert_3.in   | 5 | 5 | 5 | 5 | 5 | Min  |\n",
       "| instances/BBGRL/100_ep0.1_0_gilbert_9.in     | 3 | 4 | 3 | 3 | 3 | LDEG |\n",
       "| instances/BBGRL/100_ep0.075_0_gilbert_6.in   | 4 | 4 | 4 | 4 | 4 | Min  |\n",
       "\n"
      ],
      "text/plain": [
       "  Instance                                     Min LDEG GDEG AStar MCTS Best\n",
       "1 instances/BBGRL/1000_ep0.0125_0_gilbert_5.in 4   4    4    4     4    Min \n",
       "2 instances/BBGRL/50_ep0.1_0_gilbert_6.in      5   6    5    6     7    MCTS\n",
       "3 instances/BBGRL/500_ep0.015_0_gilbert_8.in   5   5    5    5     5    Min \n",
       "4 instances/BBGRL/1000_ep0.01_0_gilbert_3.in   5   5    5    5     5    Min \n",
       "5 instances/BBGRL/100_ep0.1_0_gilbert_9.in     3   4    3    3     3    LDEG\n",
       "6 instances/BBGRL/100_ep0.075_0_gilbert_6.in   4   4    4    4     4    Min "
      ]
     },
     "metadata": {},
     "output_type": "display_data"
    },
    {
     "data": {
      "text/html": [
       "<table class=\"dataframe\">\n",
       "<caption>A tibble: 6 × 7</caption>\n",
       "<thead>\n",
       "\t<tr><th scope=col>Instance</th><th scope=col>Min</th><th scope=col>LDEG</th><th scope=col>GDEG</th><th scope=col>AStar</th><th scope=col>MCTS</th><th scope=col>Best</th></tr>\n",
       "\t<tr><th scope=col>&lt;chr&gt;</th><th scope=col>&lt;dbl&gt;</th><th scope=col>&lt;dbl&gt;</th><th scope=col>&lt;dbl&gt;</th><th scope=col>&lt;dbl&gt;</th><th scope=col>&lt;dbl&gt;</th><th scope=col>&lt;chr&gt;</th></tr>\n",
       "</thead>\n",
       "<tbody>\n",
       "\t<tr><td>instances/GBRL/50_ep0.25_0_gilbert_10.in </td><td>3</td><td>3</td><td>3</td><td> 3</td><td>3</td><td>Min  </td></tr>\n",
       "\t<tr><td>instances/GBRL/100_r0.219_0_geom_9.gin   </td><td>7</td><td>7</td><td>7</td><td> 7</td><td>7</td><td>Min  </td></tr>\n",
       "\t<tr><td>instances/GBRL/100_r0.169_0_geom_10.gin  </td><td>9</td><td>9</td><td>9</td><td>12</td><td>9</td><td>AStar</td></tr>\n",
       "\t<tr><td>instances/GBRL/50_ep0.25_0_gilbert_3.in  </td><td>3</td><td>3</td><td>3</td><td> 3</td><td>3</td><td>Min  </td></tr>\n",
       "\t<tr><td>instances/GBRL/100_ep0.075_0_gilbert_1.in</td><td>4</td><td>4</td><td>4</td><td> 4</td><td>4</td><td>Min  </td></tr>\n",
       "\t<tr><td>instances/GBRL/100_r0.219_0_geom_8.gin   </td><td>7</td><td>7</td><td>7</td><td> 7</td><td>7</td><td>Min  </td></tr>\n",
       "</tbody>\n",
       "</table>\n"
      ],
      "text/latex": [
       "A tibble: 6 × 7\n",
       "\\begin{tabular}{lllllll}\n",
       " Instance & Min & LDEG & GDEG & AStar & MCTS & Best\\\\\n",
       " <chr> & <dbl> & <dbl> & <dbl> & <dbl> & <dbl> & <chr>\\\\\n",
       "\\hline\n",
       "\t instances/GBRL/50\\_ep0.25\\_0\\_gilbert\\_10.in  & 3 & 3 & 3 &  3 & 3 & Min  \\\\\n",
       "\t instances/GBRL/100\\_r0.219\\_0\\_geom\\_9.gin    & 7 & 7 & 7 &  7 & 7 & Min  \\\\\n",
       "\t instances/GBRL/100\\_r0.169\\_0\\_geom\\_10.gin   & 9 & 9 & 9 & 12 & 9 & AStar\\\\\n",
       "\t instances/GBRL/50\\_ep0.25\\_0\\_gilbert\\_3.in   & 3 & 3 & 3 &  3 & 3 & Min  \\\\\n",
       "\t instances/GBRL/100\\_ep0.075\\_0\\_gilbert\\_1.in & 4 & 4 & 4 &  4 & 4 & Min  \\\\\n",
       "\t instances/GBRL/100\\_r0.219\\_0\\_geom\\_8.gin    & 7 & 7 & 7 &  7 & 7 & Min  \\\\\n",
       "\\end{tabular}\n"
      ],
      "text/markdown": [
       "\n",
       "A tibble: 6 × 7\n",
       "\n",
       "| Instance &lt;chr&gt; | Min &lt;dbl&gt; | LDEG &lt;dbl&gt; | GDEG &lt;dbl&gt; | AStar &lt;dbl&gt; | MCTS &lt;dbl&gt; | Best &lt;chr&gt; |\n",
       "|---|---|---|---|---|---|---|\n",
       "| instances/GBRL/50_ep0.25_0_gilbert_10.in  | 3 | 3 | 3 |  3 | 3 | Min   |\n",
       "| instances/GBRL/100_r0.219_0_geom_9.gin    | 7 | 7 | 7 |  7 | 7 | Min   |\n",
       "| instances/GBRL/100_r0.169_0_geom_10.gin   | 9 | 9 | 9 | 12 | 9 | AStar |\n",
       "| instances/GBRL/50_ep0.25_0_gilbert_3.in   | 3 | 3 | 3 |  3 | 3 | Min   |\n",
       "| instances/GBRL/100_ep0.075_0_gilbert_1.in | 4 | 4 | 4 |  4 | 4 | Min   |\n",
       "| instances/GBRL/100_r0.219_0_geom_8.gin    | 7 | 7 | 7 |  7 | 7 | Min   |\n",
       "\n"
      ],
      "text/plain": [
       "  Instance                                  Min LDEG GDEG AStar MCTS Best \n",
       "1 instances/GBRL/50_ep0.25_0_gilbert_10.in  3   3    3     3    3    Min  \n",
       "2 instances/GBRL/100_r0.219_0_geom_9.gin    7   7    7     7    7    Min  \n",
       "3 instances/GBRL/100_r0.169_0_geom_10.gin   9   9    9    12    9    AStar\n",
       "4 instances/GBRL/50_ep0.25_0_gilbert_3.in   3   3    3     3    3    Min  \n",
       "5 instances/GBRL/100_ep0.075_0_gilbert_1.in 4   4    4     4    4    Min  \n",
       "6 instances/GBRL/100_r0.219_0_geom_8.gin    7   7    7     7    7    Min  "
      ]
     },
     "metadata": {},
     "output_type": "display_data"
    }
   ],
   "source": [
    "saved_list <- rbind(ldeg, gdeg, astar, mcts) %>% select(Instance, Method, Saved) %>%\n",
    "                pivot_wider(names_from = Method, values_from = Saved) %>%\n",
    "                mutate(LDEG = coalesce(LDEG, 0),\n",
    "                        GDEG = coalesce(GDEG, 0),\n",
    "                        AStar = coalesce(AStar, 0),\n",
    "                        MCTS = coalesce(MCTS, 0))\n",
    "# saved_list\n",
    "saved_list <- saved_list %>% mutate(Min = pmin(LDEG, GDEG, AStar, MCTS))\n",
    "saved_list[\"Best\"] <- colnames(select(saved_list, Min, LDEG, GDEG, AStar, MCTS))[max.col(select(saved_list, Min, LDEG, GDEG, AStar, MCTS), ties.method = \"first\")]\n",
    "saved_list <- saved_list %>% select(Instance, Min, everything())\n",
    "\n",
    "\n",
    "head(saved_list)\n",
    "tail(saved_list)"
   ]
  },
  {
   "cell_type": "code",
   "execution_count": null,
   "outputs": [],
   "source": [
    "#write_csv(saved_list, \"saved_list2.csv\")"
   ],
   "metadata": {
    "collapsed": false,
    "pycharm": {
     "name": "#%%\n"
    }
   }
  },
  {
   "cell_type": "code",
   "execution_count": null,
   "outputs": [],
   "source": [
    "type = gdeg\n",
    "\n",
    "\n",
    "type = type %>% select(Instance, Saved, Time_s)\n",
    "\n",
    "type_BB = type %>% filter(grepl('BBGRL', Instance))\n",
    "type_BB_50 = type_BB %>% filter(grepl('50', Instance) & !grepl('500', Instance))\n",
    "type_BB_100 = type_BB %>% filter(grepl('100', Instance) & !grepl('1000', Instance))\n",
    "type_BB_500 = type_BB %>% filter(grepl('500', Instance))\n",
    "type_BB_1000 = type_BB %>% filter(grepl('1000', Instance))\n",
    "\n",
    "type_GB = type %>% filter(grepl('GBRL', Instance))\n",
    "type_GB_50 = type_GB %>% filter(grepl('50', Instance))\n",
    "type_RGB_50 = type_GB_50 %>% filter(grepl('gilbert', Instance))\n",
    "type_GGB_50 = type_GB_50 %>% filter(grepl('geom', Instance))\n",
    "type_GB_100 = type_GB %>% filter(grepl('100', Instance) & !grepl('1000', Instance))\n",
    "type_RGB_100 = type_GB_100 %>% filter(grepl('gilbert', Instance))\n",
    "type_GGB_100 = type_GB_100 %>% filter(grepl('geom', Instance))\n",
    "\n",
    "\n",
    "df <- data.frame (Type  = c(\"BBGRL_50\", \"BBGRL_100\", \"BBGRL_500\", \"BBGRL_1000\", \"R-GBRL_50\", \"R-GBRL_100\", \"G-GBRL_50\", \"G-GBRL_100\"),\n",
    "                  Saved = c(mean(type_BB_50$Saved), mean(type_BB_100$Saved),mean(type_BB_500$Saved),mean(type_BB_1000$Saved),mean(type_RGB_50$Saved),mean(type_RGB_100$Saved),mean(type_GGB_50$Saved),mean(type_GGB_50$Saved)),\n",
    "                  Time = c(mean(type_BB_50$Time_s), mean(type_BB_100$Time_s),mean(type_BB_500$Time_s),mean(type_BB_1000$Time_s),mean(type_RGB_50$Time_s),mean(type_RGB_100$Time_s),mean(type_GGB_50$Time_s),mean(type_GGB_50$Time_s))\n",
    "                  )\n",
    "\n",
    "head(df)\n",
    "\n",
    "write_csv(df, \"analysis/gdeg.csv\")"
   ],
   "metadata": {
    "collapsed": false,
    "pycharm": {
     "name": "#%%\n"
    }
   }
  },
  {
   "cell_type": "code",
   "execution_count": null,
   "id": "37e3d320-12a5-4c83-a6ec-333deb84e8dc",
   "metadata": {},
   "outputs": [],
   "source": []
  }
 ],
 "metadata": {
  "kernelspec": {
   "display_name": "R",
   "language": "R",
   "name": "ir"
  },
  "language_info": {
   "codemirror_mode": "r",
   "file_extension": ".r",
   "mimetype": "text/x-r-source",
   "name": "R",
   "pygments_lexer": "r",
   "version": "4.2.0"
  }
 },
 "nbformat": 4,
 "nbformat_minor": 5
}